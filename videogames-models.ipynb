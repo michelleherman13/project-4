{
 "cells": [
  {
   "cell_type": "markdown",
   "id": "b7f6d486",
   "metadata": {},
   "source": [
    "dataset: https://www.kaggle.com/ashaheedq/video-games-sales-2019?select=vgsales-12-4-2019.csv\n",
    "\n",
    "inspiration: https://www.kaggle.com/vikasukani/video-game-sales-eda-visualizations-ml-models"
   ]
  },
  {
   "cell_type": "markdown",
   "metadata": {
    "papermill": {
     "duration": 0.061301,
     "end_time": "2020-12-18T18:23:13.778275",
     "exception": false,
     "start_time": "2020-12-18T18:23:13.716974",
     "status": "completed"
    },
    "tags": []
   },
   "source": [
    "## Dependencies"
   ]
  },
  {
   "cell_type": "code",
   "execution_count": 96,
   "metadata": {
    "_cell_guid": "b1076dfc-b9ad-4769-8c92-a6c4dae69d19",
    "_uuid": "8f2839f25d086af736a60e9eeb907d3b93b6e0e5",
    "execution": {
     "iopub.execute_input": "2020-12-18T18:23:13.911323Z",
     "iopub.status.busy": "2020-12-18T18:23:13.910595Z",
     "iopub.status.idle": "2020-12-18T18:23:15.992197Z",
     "shell.execute_reply": "2020-12-18T18:23:15.991423Z"
    },
    "papermill": {
     "duration": 2.150024,
     "end_time": "2020-12-18T18:23:15.992318",
     "exception": false,
     "start_time": "2020-12-18T18:23:13.842294",
     "status": "completed"
    },
    "tags": []
   },
   "outputs": [],
   "source": [
    "import numpy as np # linear algebra\n",
    "import pandas as pd # data processing, CSV file I/O (e.g. pd.read_csv)\n",
    "\n",
    "# Visualization Packages Importing\n",
    "from matplotlib import pyplot as plt"
   ]
  },
  {
   "cell_type": "code",
   "execution_count": 97,
   "metadata": {
    "_cell_guid": "79c7e3d0-c299-4dcb-8224-4455121ee9b0",
    "_uuid": "d629ff2d2480ee46fbb7e2d37f6b5fab8052498a",
    "execution": {
     "iopub.execute_input": "2020-12-18T18:23:16.511160Z",
     "iopub.status.busy": "2020-12-18T18:23:16.510384Z",
     "iopub.status.idle": "2020-12-18T18:23:16.578334Z",
     "shell.execute_reply": "2020-12-18T18:23:16.577743Z"
    },
    "papermill": {
     "duration": 0.136042,
     "end_time": "2020-12-18T18:23:16.578449",
     "exception": false,
     "start_time": "2020-12-18T18:23:16.442407",
     "status": "completed"
    },
    "tags": []
   },
   "outputs": [
    {
     "data": {
      "text/html": [
       "<div>\n",
       "<style scoped>\n",
       "    .dataframe tbody tr th:only-of-type {\n",
       "        vertical-align: middle;\n",
       "    }\n",
       "\n",
       "    .dataframe tbody tr th {\n",
       "        vertical-align: top;\n",
       "    }\n",
       "\n",
       "    .dataframe thead th {\n",
       "        text-align: right;\n",
       "    }\n",
       "</style>\n",
       "<table border=\"1\" class=\"dataframe\">\n",
       "  <thead>\n",
       "    <tr style=\"text-align: right;\">\n",
       "      <th></th>\n",
       "      <th>game</th>\n",
       "      <th>Genre</th>\n",
       "      <th>ESRB_Rating</th>\n",
       "      <th>Platform</th>\n",
       "      <th>Publisher</th>\n",
       "      <th>Critic_Score</th>\n",
       "      <th>Global_Sales</th>\n",
       "      <th>NA_Sales</th>\n",
       "      <th>PAL_Sales</th>\n",
       "      <th>JP_Sales</th>\n",
       "      <th>Other_Sales</th>\n",
       "      <th>Year</th>\n",
       "    </tr>\n",
       "  </thead>\n",
       "  <tbody>\n",
       "    <tr>\n",
       "      <th>0</th>\n",
       "      <td>grand-theft-auto-v</td>\n",
       "      <td>Action</td>\n",
       "      <td>M</td>\n",
       "      <td>PS3</td>\n",
       "      <td>Rockstar Games</td>\n",
       "      <td>9.4</td>\n",
       "      <td>20.32</td>\n",
       "      <td>6.37</td>\n",
       "      <td>9.85</td>\n",
       "      <td>0.99</td>\n",
       "      <td>3.12</td>\n",
       "      <td>2013.0</td>\n",
       "    </tr>\n",
       "    <tr>\n",
       "      <th>1</th>\n",
       "      <td>grand-theft-auto-v</td>\n",
       "      <td>Action</td>\n",
       "      <td>M</td>\n",
       "      <td>PS4</td>\n",
       "      <td>Rockstar Games</td>\n",
       "      <td>9.7</td>\n",
       "      <td>19.39</td>\n",
       "      <td>6.06</td>\n",
       "      <td>9.71</td>\n",
       "      <td>0.60</td>\n",
       "      <td>3.02</td>\n",
       "      <td>2014.0</td>\n",
       "    </tr>\n",
       "    <tr>\n",
       "      <th>2</th>\n",
       "      <td>grand-theft-auto-vice-city</td>\n",
       "      <td>Action</td>\n",
       "      <td>M</td>\n",
       "      <td>PS2</td>\n",
       "      <td>Rockstar Games</td>\n",
       "      <td>9.6</td>\n",
       "      <td>16.15</td>\n",
       "      <td>8.41</td>\n",
       "      <td>5.49</td>\n",
       "      <td>0.47</td>\n",
       "      <td>1.78</td>\n",
       "      <td>2002.0</td>\n",
       "    </tr>\n",
       "    <tr>\n",
       "      <th>3</th>\n",
       "      <td>call-of-duty-modern-warfare-3</td>\n",
       "      <td>Shooter</td>\n",
       "      <td>M</td>\n",
       "      <td>X360</td>\n",
       "      <td>Activision</td>\n",
       "      <td>8.7</td>\n",
       "      <td>14.82</td>\n",
       "      <td>9.07</td>\n",
       "      <td>4.29</td>\n",
       "      <td>0.13</td>\n",
       "      <td>1.33</td>\n",
       "      <td>2011.0</td>\n",
       "    </tr>\n",
       "    <tr>\n",
       "      <th>4</th>\n",
       "      <td>call-of-duty-black-ops</td>\n",
       "      <td>Shooter</td>\n",
       "      <td>M</td>\n",
       "      <td>X360</td>\n",
       "      <td>Activision</td>\n",
       "      <td>8.8</td>\n",
       "      <td>14.74</td>\n",
       "      <td>9.76</td>\n",
       "      <td>3.73</td>\n",
       "      <td>0.11</td>\n",
       "      <td>1.14</td>\n",
       "      <td>2010.0</td>\n",
       "    </tr>\n",
       "  </tbody>\n",
       "</table>\n",
       "</div>"
      ],
      "text/plain": [
       "                            game    Genre ESRB_Rating Platform  \\\n",
       "0             grand-theft-auto-v   Action           M      PS3   \n",
       "1             grand-theft-auto-v   Action           M      PS4   \n",
       "2     grand-theft-auto-vice-city   Action           M      PS2   \n",
       "3  call-of-duty-modern-warfare-3  Shooter           M     X360   \n",
       "4         call-of-duty-black-ops  Shooter           M     X360   \n",
       "\n",
       "        Publisher  Critic_Score  Global_Sales  NA_Sales  PAL_Sales  JP_Sales  \\\n",
       "0  Rockstar Games           9.4         20.32      6.37       9.85      0.99   \n",
       "1  Rockstar Games           9.7         19.39      6.06       9.71      0.60   \n",
       "2  Rockstar Games           9.6         16.15      8.41       5.49      0.47   \n",
       "3      Activision           8.7         14.82      9.07       4.29      0.13   \n",
       "4      Activision           8.8         14.74      9.76       3.73      0.11   \n",
       "\n",
       "   Other_Sales    Year  \n",
       "0         3.12  2013.0  \n",
       "1         3.02  2014.0  \n",
       "2         1.78  2002.0  \n",
       "3         1.33  2011.0  \n",
       "4         1.14  2010.0  "
      ]
     },
     "execution_count": 97,
     "metadata": {},
     "output_type": "execute_result"
    }
   ],
   "source": [
    "# Read Data Using read_csv() method\n",
    "df = pd.read_csv('./resources/vgames_clean.csv').drop('Unnamed: 0', axis=1)\n",
    "df.head(5)"
   ]
  },
  {
   "cell_type": "markdown",
   "metadata": {
    "papermill": {
     "duration": 0.067579,
     "end_time": "2020-12-18T18:23:19.882309",
     "exception": false,
     "start_time": "2020-12-18T18:23:19.814730",
     "status": "completed"
    },
    "tags": []
   },
   "source": [
    "### Separate the Numerical And Categorical Features\n"
   ]
  },
  {
   "cell_type": "code",
   "execution_count": 98,
   "metadata": {
    "execution": {
     "iopub.execute_input": "2020-12-18T18:23:20.219978Z",
     "iopub.status.busy": "2020-12-18T18:23:20.210203Z",
     "iopub.status.idle": "2020-12-18T18:23:20.225564Z",
     "shell.execute_reply": "2020-12-18T18:23:20.224865Z"
    },
    "papermill": {
     "duration": 0.138374,
     "end_time": "2020-12-18T18:23:20.225683",
     "exception": false,
     "start_time": "2020-12-18T18:23:20.087309",
     "status": "completed"
    },
    "tags": []
   },
   "outputs": [
    {
     "data": {
      "text/html": [
       "<div>\n",
       "<style scoped>\n",
       "    .dataframe tbody tr th:only-of-type {\n",
       "        vertical-align: middle;\n",
       "    }\n",
       "\n",
       "    .dataframe tbody tr th {\n",
       "        vertical-align: top;\n",
       "    }\n",
       "\n",
       "    .dataframe thead th {\n",
       "        text-align: right;\n",
       "    }\n",
       "</style>\n",
       "<table border=\"1\" class=\"dataframe\">\n",
       "  <thead>\n",
       "    <tr style=\"text-align: right;\">\n",
       "      <th></th>\n",
       "      <th>game</th>\n",
       "      <th>Genre</th>\n",
       "      <th>ESRB_Rating</th>\n",
       "      <th>Platform</th>\n",
       "      <th>Publisher</th>\n",
       "    </tr>\n",
       "  </thead>\n",
       "  <tbody>\n",
       "    <tr>\n",
       "      <th>0</th>\n",
       "      <td>grand-theft-auto-v</td>\n",
       "      <td>Action</td>\n",
       "      <td>M</td>\n",
       "      <td>PS3</td>\n",
       "      <td>Rockstar Games</td>\n",
       "    </tr>\n",
       "    <tr>\n",
       "      <th>1</th>\n",
       "      <td>grand-theft-auto-v</td>\n",
       "      <td>Action</td>\n",
       "      <td>M</td>\n",
       "      <td>PS4</td>\n",
       "      <td>Rockstar Games</td>\n",
       "    </tr>\n",
       "    <tr>\n",
       "      <th>2</th>\n",
       "      <td>grand-theft-auto-vice-city</td>\n",
       "      <td>Action</td>\n",
       "      <td>M</td>\n",
       "      <td>PS2</td>\n",
       "      <td>Rockstar Games</td>\n",
       "    </tr>\n",
       "    <tr>\n",
       "      <th>3</th>\n",
       "      <td>call-of-duty-modern-warfare-3</td>\n",
       "      <td>Shooter</td>\n",
       "      <td>M</td>\n",
       "      <td>X360</td>\n",
       "      <td>Activision</td>\n",
       "    </tr>\n",
       "    <tr>\n",
       "      <th>4</th>\n",
       "      <td>call-of-duty-black-ops</td>\n",
       "      <td>Shooter</td>\n",
       "      <td>M</td>\n",
       "      <td>X360</td>\n",
       "      <td>Activision</td>\n",
       "    </tr>\n",
       "  </tbody>\n",
       "</table>\n",
       "</div>"
      ],
      "text/plain": [
       "                            game    Genre ESRB_Rating Platform       Publisher\n",
       "0             grand-theft-auto-v   Action           M      PS3  Rockstar Games\n",
       "1             grand-theft-auto-v   Action           M      PS4  Rockstar Games\n",
       "2     grand-theft-auto-vice-city   Action           M      PS2  Rockstar Games\n",
       "3  call-of-duty-modern-warfare-3  Shooter           M     X360      Activision\n",
       "4         call-of-duty-black-ops  Shooter           M     X360      Activision"
      ]
     },
     "execution_count": 98,
     "metadata": {},
     "output_type": "execute_result"
    }
   ],
   "source": [
    "# Creating Categorical DataFrame\n",
    "categorical_df = df.select_dtypes('O')\n",
    "\n",
    "categorical_df.head()"
   ]
  },
  {
   "cell_type": "code",
   "execution_count": 99,
   "metadata": {
    "execution": {
     "iopub.execute_input": "2020-12-18T18:23:20.516930Z",
     "iopub.status.busy": "2020-12-18T18:23:20.516010Z",
     "iopub.status.idle": "2020-12-18T18:23:20.521766Z",
     "shell.execute_reply": "2020-12-18T18:23:20.521152Z"
    },
    "papermill": {
     "duration": 0.090487,
     "end_time": "2020-12-18T18:23:20.521898",
     "exception": false,
     "start_time": "2020-12-18T18:23:20.431411",
     "status": "completed"
    },
    "tags": []
   },
   "outputs": [
    {
     "data": {
      "text/html": [
       "<div>\n",
       "<style scoped>\n",
       "    .dataframe tbody tr th:only-of-type {\n",
       "        vertical-align: middle;\n",
       "    }\n",
       "\n",
       "    .dataframe tbody tr th {\n",
       "        vertical-align: top;\n",
       "    }\n",
       "\n",
       "    .dataframe thead th {\n",
       "        text-align: right;\n",
       "    }\n",
       "</style>\n",
       "<table border=\"1\" class=\"dataframe\">\n",
       "  <thead>\n",
       "    <tr style=\"text-align: right;\">\n",
       "      <th></th>\n",
       "      <th>Critic_Score</th>\n",
       "      <th>Global_Sales</th>\n",
       "      <th>NA_Sales</th>\n",
       "      <th>PAL_Sales</th>\n",
       "      <th>JP_Sales</th>\n",
       "      <th>Other_Sales</th>\n",
       "      <th>Year</th>\n",
       "    </tr>\n",
       "  </thead>\n",
       "  <tbody>\n",
       "    <tr>\n",
       "      <th>0</th>\n",
       "      <td>9.4</td>\n",
       "      <td>20.32</td>\n",
       "      <td>6.37</td>\n",
       "      <td>9.85</td>\n",
       "      <td>0.99</td>\n",
       "      <td>3.12</td>\n",
       "      <td>2013.0</td>\n",
       "    </tr>\n",
       "    <tr>\n",
       "      <th>1</th>\n",
       "      <td>9.7</td>\n",
       "      <td>19.39</td>\n",
       "      <td>6.06</td>\n",
       "      <td>9.71</td>\n",
       "      <td>0.60</td>\n",
       "      <td>3.02</td>\n",
       "      <td>2014.0</td>\n",
       "    </tr>\n",
       "    <tr>\n",
       "      <th>2</th>\n",
       "      <td>9.6</td>\n",
       "      <td>16.15</td>\n",
       "      <td>8.41</td>\n",
       "      <td>5.49</td>\n",
       "      <td>0.47</td>\n",
       "      <td>1.78</td>\n",
       "      <td>2002.0</td>\n",
       "    </tr>\n",
       "    <tr>\n",
       "      <th>3</th>\n",
       "      <td>8.7</td>\n",
       "      <td>14.82</td>\n",
       "      <td>9.07</td>\n",
       "      <td>4.29</td>\n",
       "      <td>0.13</td>\n",
       "      <td>1.33</td>\n",
       "      <td>2011.0</td>\n",
       "    </tr>\n",
       "    <tr>\n",
       "      <th>4</th>\n",
       "      <td>8.8</td>\n",
       "      <td>14.74</td>\n",
       "      <td>9.76</td>\n",
       "      <td>3.73</td>\n",
       "      <td>0.11</td>\n",
       "      <td>1.14</td>\n",
       "      <td>2010.0</td>\n",
       "    </tr>\n",
       "  </tbody>\n",
       "</table>\n",
       "</div>"
      ],
      "text/plain": [
       "   Critic_Score  Global_Sales  NA_Sales  PAL_Sales  JP_Sales  Other_Sales  \\\n",
       "0           9.4         20.32      6.37       9.85      0.99         3.12   \n",
       "1           9.7         19.39      6.06       9.71      0.60         3.02   \n",
       "2           9.6         16.15      8.41       5.49      0.47         1.78   \n",
       "3           8.7         14.82      9.07       4.29      0.13         1.33   \n",
       "4           8.8         14.74      9.76       3.73      0.11         1.14   \n",
       "\n",
       "     Year  \n",
       "0  2013.0  \n",
       "1  2014.0  \n",
       "2  2002.0  \n",
       "3  2011.0  \n",
       "4  2010.0  "
      ]
     },
     "execution_count": 99,
     "metadata": {},
     "output_type": "execute_result"
    }
   ],
   "source": [
    "# Create Numerical DataFrame\n",
    "\n",
    "numerical_df = df.select_dtypes(('int', 'float'))\n",
    "\n",
    "numerical_df.head()"
   ]
  },
  {
   "cell_type": "code",
   "execution_count": 100,
   "metadata": {
    "execution": {
     "iopub.execute_input": "2020-12-18T18:23:20.807739Z",
     "iopub.status.busy": "2020-12-18T18:23:20.807003Z",
     "iopub.status.idle": "2020-12-18T18:23:20.811132Z",
     "shell.execute_reply": "2020-12-18T18:23:20.810185Z"
    },
    "papermill": {
     "duration": 0.080372,
     "end_time": "2020-12-18T18:23:20.811288",
     "exception": false,
     "start_time": "2020-12-18T18:23:20.730916",
     "status": "completed"
    },
    "tags": []
   },
   "outputs": [
    {
     "name": "stdout",
     "output_type": "stream",
     "text": [
      "Index(['game', 'Genre', 'ESRB_Rating', 'Platform', 'Publisher'], dtype='object')\n",
      "------------------------------------------------------------\n",
      "Index(['Critic_Score', 'Global_Sales', 'NA_Sales', 'PAL_Sales', 'JP_Sales',\n",
      "       'Other_Sales', 'Year'],\n",
      "      dtype='object')\n"
     ]
    }
   ],
   "source": [
    "categorical_features = categorical_df.columns\n",
    "print(categorical_features)\n",
    "\n",
    "print('-' * 60)\n",
    "\n",
    "numerical_features = numerical_df.columns\n",
    "print(numerical_features)"
   ]
  },
  {
   "cell_type": "markdown",
   "metadata": {
    "papermill": {
     "duration": 0.069357,
     "end_time": "2020-12-18T18:23:20.953219",
     "exception": false,
     "start_time": "2020-12-18T18:23:20.883862",
     "status": "completed"
    },
    "tags": []
   },
   "source": [
    "#### Analysis for Categorical Features & check the most repetitive values."
   ]
  },
  {
   "cell_type": "code",
   "execution_count": 101,
   "metadata": {
    "execution": {
     "iopub.execute_input": "2020-12-18T18:23:21.114053Z",
     "iopub.status.busy": "2020-12-18T18:23:21.112979Z",
     "iopub.status.idle": "2020-12-18T18:23:21.139402Z",
     "shell.execute_reply": "2020-12-18T18:23:21.138859Z"
    },
    "papermill": {
     "duration": 0.116471,
     "end_time": "2020-12-18T18:23:21.139606",
     "exception": false,
     "start_time": "2020-12-18T18:23:21.023135",
     "status": "completed"
    },
    "tags": []
   },
   "outputs": [
    {
     "name": "stdout",
     "output_type": "stream",
     "text": [
      "--------------------------------------------------\n",
      "Column Name:  game\n",
      "                                                  \n",
      "resident-evil-revelations           5\n",
      "call-of-duty-advanced-warfare       4\n",
      "2010-fifa-world-cup-south-africa    4\n",
      "007-quantum-of-solace               4\n",
      "pro-evolution-soccer-2010           4\n",
      "Name: game, dtype: int64\n",
      "--------------------------------------------------\n",
      "--------------------------------------------------\n",
      "--------------------------------------------------\n",
      "Column Name:  Genre\n",
      "                                                  \n",
      "Role-Playing    226\n",
      "Action          217\n",
      "Shooter         200\n",
      "Sports          118\n",
      "Racing           97\n",
      "Name: Genre, dtype: int64\n",
      "--------------------------------------------------\n",
      "--------------------------------------------------\n",
      "--------------------------------------------------\n",
      "Column Name:  ESRB_Rating\n",
      "                                                  \n",
      "T      474\n",
      "M      357\n",
      "E      325\n",
      "E10    144\n",
      "Name: ESRB_Rating, dtype: int64\n",
      "--------------------------------------------------\n",
      "--------------------------------------------------\n",
      "--------------------------------------------------\n",
      "Column Name:  Platform\n",
      "                                                  \n",
      "PS3     266\n",
      "X360    265\n",
      "PS2     117\n",
      "PSP      99\n",
      "DS       89\n",
      "Name: Platform, dtype: int64\n",
      "--------------------------------------------------\n",
      "--------------------------------------------------\n",
      "--------------------------------------------------\n",
      "Column Name:  Publisher\n",
      "                                                  \n",
      "Electronic Arts                110\n",
      "Nintendo                       110\n",
      "Sony Computer Entertainment     86\n",
      "Ubisoft                         72\n",
      "Konami                          71\n",
      "Name: Publisher, dtype: int64\n",
      "--------------------------------------------------\n",
      "--------------------------------------------------\n"
     ]
    }
   ],
   "source": [
    "# Categorical Features Normalization\n",
    "\n",
    "for category_name in categorical_features:\n",
    "    print('-' * 50)\n",
    "    print(\"Column Name: \", category_name)\n",
    "    print(' ' * 50)\n",
    "    \n",
    "    print(df[category_name].value_counts().head())\n",
    "    \n",
    "    print('-' * 50)\n",
    "    print('-' * 50)"
   ]
  },
  {
   "cell_type": "code",
   "execution_count": 102,
   "metadata": {
    "execution": {
     "iopub.execute_input": "2020-12-18T18:23:32.706777Z",
     "iopub.status.busy": "2020-12-18T18:23:32.706044Z",
     "iopub.status.idle": "2020-12-18T18:23:32.710691Z",
     "shell.execute_reply": "2020-12-18T18:23:32.710103Z"
    },
    "papermill": {
     "duration": 0.140599,
     "end_time": "2020-12-18T18:23:32.710813",
     "exception": false,
     "start_time": "2020-12-18T18:23:32.570214",
     "status": "completed"
    },
    "tags": []
   },
   "outputs": [
    {
     "data": {
      "text/html": [
       "<div>\n",
       "<style scoped>\n",
       "    .dataframe tbody tr th:only-of-type {\n",
       "        vertical-align: middle;\n",
       "    }\n",
       "\n",
       "    .dataframe tbody tr th {\n",
       "        vertical-align: top;\n",
       "    }\n",
       "\n",
       "    .dataframe thead th {\n",
       "        text-align: right;\n",
       "    }\n",
       "</style>\n",
       "<table border=\"1\" class=\"dataframe\">\n",
       "  <thead>\n",
       "    <tr style=\"text-align: right;\">\n",
       "      <th></th>\n",
       "      <th>game</th>\n",
       "      <th>Genre</th>\n",
       "      <th>ESRB_Rating</th>\n",
       "      <th>Platform</th>\n",
       "      <th>Publisher</th>\n",
       "      <th>Critic_Score</th>\n",
       "      <th>Global_Sales</th>\n",
       "      <th>NA_Sales</th>\n",
       "      <th>PAL_Sales</th>\n",
       "      <th>JP_Sales</th>\n",
       "      <th>Other_Sales</th>\n",
       "      <th>Year</th>\n",
       "    </tr>\n",
       "  </thead>\n",
       "  <tbody>\n",
       "    <tr>\n",
       "      <th>0</th>\n",
       "      <td>grand-theft-auto-v</td>\n",
       "      <td>Action</td>\n",
       "      <td>M</td>\n",
       "      <td>PS3</td>\n",
       "      <td>Rockstar Games</td>\n",
       "      <td>9.4</td>\n",
       "      <td>20.32</td>\n",
       "      <td>6.37</td>\n",
       "      <td>9.85</td>\n",
       "      <td>0.99</td>\n",
       "      <td>3.12</td>\n",
       "      <td>2013.0</td>\n",
       "    </tr>\n",
       "    <tr>\n",
       "      <th>1</th>\n",
       "      <td>grand-theft-auto-v</td>\n",
       "      <td>Action</td>\n",
       "      <td>M</td>\n",
       "      <td>PS4</td>\n",
       "      <td>Rockstar Games</td>\n",
       "      <td>9.7</td>\n",
       "      <td>19.39</td>\n",
       "      <td>6.06</td>\n",
       "      <td>9.71</td>\n",
       "      <td>0.60</td>\n",
       "      <td>3.02</td>\n",
       "      <td>2014.0</td>\n",
       "    </tr>\n",
       "    <tr>\n",
       "      <th>2</th>\n",
       "      <td>grand-theft-auto-vice-city</td>\n",
       "      <td>Action</td>\n",
       "      <td>M</td>\n",
       "      <td>PS2</td>\n",
       "      <td>Rockstar Games</td>\n",
       "      <td>9.6</td>\n",
       "      <td>16.15</td>\n",
       "      <td>8.41</td>\n",
       "      <td>5.49</td>\n",
       "      <td>0.47</td>\n",
       "      <td>1.78</td>\n",
       "      <td>2002.0</td>\n",
       "    </tr>\n",
       "    <tr>\n",
       "      <th>3</th>\n",
       "      <td>call-of-duty-modern-warfare-3</td>\n",
       "      <td>Shooter</td>\n",
       "      <td>M</td>\n",
       "      <td>X360</td>\n",
       "      <td>Activision</td>\n",
       "      <td>8.7</td>\n",
       "      <td>14.82</td>\n",
       "      <td>9.07</td>\n",
       "      <td>4.29</td>\n",
       "      <td>0.13</td>\n",
       "      <td>1.33</td>\n",
       "      <td>2011.0</td>\n",
       "    </tr>\n",
       "    <tr>\n",
       "      <th>4</th>\n",
       "      <td>call-of-duty-black-ops</td>\n",
       "      <td>Shooter</td>\n",
       "      <td>M</td>\n",
       "      <td>X360</td>\n",
       "      <td>Activision</td>\n",
       "      <td>8.8</td>\n",
       "      <td>14.74</td>\n",
       "      <td>9.76</td>\n",
       "      <td>3.73</td>\n",
       "      <td>0.11</td>\n",
       "      <td>1.14</td>\n",
       "      <td>2010.0</td>\n",
       "    </tr>\n",
       "  </tbody>\n",
       "</table>\n",
       "</div>"
      ],
      "text/plain": [
       "                            game    Genre ESRB_Rating Platform  \\\n",
       "0             grand-theft-auto-v   Action           M      PS3   \n",
       "1             grand-theft-auto-v   Action           M      PS4   \n",
       "2     grand-theft-auto-vice-city   Action           M      PS2   \n",
       "3  call-of-duty-modern-warfare-3  Shooter           M     X360   \n",
       "4         call-of-duty-black-ops  Shooter           M     X360   \n",
       "\n",
       "        Publisher  Critic_Score  Global_Sales  NA_Sales  PAL_Sales  JP_Sales  \\\n",
       "0  Rockstar Games           9.4         20.32      6.37       9.85      0.99   \n",
       "1  Rockstar Games           9.7         19.39      6.06       9.71      0.60   \n",
       "2  Rockstar Games           9.6         16.15      8.41       5.49      0.47   \n",
       "3      Activision           8.7         14.82      9.07       4.29      0.13   \n",
       "4      Activision           8.8         14.74      9.76       3.73      0.11   \n",
       "\n",
       "   Other_Sales    Year  \n",
       "0         3.12  2013.0  \n",
       "1         3.02  2014.0  \n",
       "2         1.78  2002.0  \n",
       "3         1.33  2011.0  \n",
       "4         1.14  2010.0  "
      ]
     },
     "execution_count": 102,
     "metadata": {},
     "output_type": "execute_result"
    }
   ],
   "source": [
    "df.head(5)"
   ]
  },
  {
   "cell_type": "markdown",
   "metadata": {
    "papermill": {
     "duration": 0.140275,
     "end_time": "2020-12-18T18:23:32.987725",
     "exception": false,
     "start_time": "2020-12-18T18:23:32.847450",
     "status": "completed"
    },
    "tags": []
   },
   "source": [
    "### Implementing LabelEncoder"
   ]
  },
  {
   "cell_type": "code",
   "execution_count": 103,
   "metadata": {
    "execution": {
     "iopub.execute_input": "2020-12-18T18:23:33.282204Z",
     "iopub.status.busy": "2020-12-18T18:23:33.281426Z",
     "iopub.status.idle": "2020-12-18T18:23:33.354461Z",
     "shell.execute_reply": "2020-12-18T18:23:33.355686Z"
    },
    "papermill": {
     "duration": 0.205509,
     "end_time": "2020-12-18T18:23:33.355949",
     "exception": false,
     "start_time": "2020-12-18T18:23:33.150440",
     "status": "completed"
    },
    "tags": []
   },
   "outputs": [],
   "source": [
    "from sklearn.preprocessing import LabelEncoder"
   ]
  },
  {
   "cell_type": "code",
   "execution_count": 104,
   "metadata": {
    "execution": {
     "iopub.execute_input": "2020-12-18T18:23:33.619214Z",
     "iopub.status.busy": "2020-12-18T18:23:33.618558Z",
     "iopub.status.idle": "2020-12-18T18:23:33.624765Z",
     "shell.execute_reply": "2020-12-18T18:23:33.624162Z"
    },
    "papermill": {
     "duration": 0.135265,
     "end_time": "2020-12-18T18:23:33.624878",
     "exception": false,
     "start_time": "2020-12-18T18:23:33.489613",
     "status": "completed"
    },
    "tags": []
   },
   "outputs": [],
   "source": [
    "data = df.copy()\n",
    "\n",
    "le = LabelEncoder()"
   ]
  },
  {
   "cell_type": "code",
   "execution_count": 105,
   "metadata": {
    "execution": {
     "iopub.execute_input": "2020-12-18T18:23:33.884905Z",
     "iopub.status.busy": "2020-12-18T18:23:33.884189Z",
     "iopub.status.idle": "2020-12-18T18:23:33.895027Z",
     "shell.execute_reply": "2020-12-18T18:23:33.895631Z"
    },
    "papermill": {
     "duration": 0.148421,
     "end_time": "2020-12-18T18:23:33.895802",
     "exception": false,
     "start_time": "2020-12-18T18:23:33.747381",
     "status": "completed"
    },
    "tags": []
   },
   "outputs": [],
   "source": [
    "feature = [\"Platform\", \"Genre\"]\n",
    "\n",
    "for col in feature:\n",
    "    data[col] = le.fit_transform(df[col])"
   ]
  },
  {
   "cell_type": "code",
   "execution_count": 106,
   "metadata": {
    "execution": {
     "iopub.execute_input": "2020-12-18T18:23:34.632049Z",
     "iopub.status.busy": "2020-12-18T18:23:34.631372Z",
     "iopub.status.idle": "2020-12-18T18:23:34.640323Z",
     "shell.execute_reply": "2020-12-18T18:23:34.639310Z"
    },
    "papermill": {
     "duration": 0.133293,
     "end_time": "2020-12-18T18:23:34.640458",
     "exception": false,
     "start_time": "2020-12-18T18:23:34.507165",
     "status": "completed"
    },
    "tags": []
   },
   "outputs": [],
   "source": [
    "X = data[['Platform', 'Genre', 'NA_Sales', 'PAL_Sales', 'JP_Sales', 'Other_Sales']].values\n",
    "\n",
    "y = data['Global_Sales'].values"
   ]
  },
  {
   "cell_type": "code",
   "execution_count": 107,
   "metadata": {
    "execution": {
     "iopub.execute_input": "2020-12-18T18:23:34.886908Z",
     "iopub.status.busy": "2020-12-18T18:23:34.886218Z",
     "iopub.status.idle": "2020-12-18T18:23:34.892543Z",
     "shell.execute_reply": "2020-12-18T18:23:34.893058Z"
    },
    "papermill": {
     "duration": 0.131917,
     "end_time": "2020-12-18T18:23:34.893194",
     "exception": false,
     "start_time": "2020-12-18T18:23:34.761277",
     "status": "completed"
    },
    "tags": []
   },
   "outputs": [
    {
     "data": {
      "text/plain": [
       "(array([[11.  ,  0.  ,  6.37,  9.85,  0.99,  3.12],\n",
       "        [12.  ,  0.  ,  6.06,  9.71,  0.6 ,  3.02],\n",
       "        [10.  ,  0.  ,  8.41,  5.49,  0.47,  1.78],\n",
       "        [19.  , 14.  ,  9.07,  4.29,  0.13,  1.33],\n",
       "        [19.  , 14.  ,  9.76,  3.73,  0.11,  1.14]]),\n",
       " array([20.32, 19.39, 16.15, 14.82, 14.74]))"
      ]
     },
     "execution_count": 107,
     "metadata": {},
     "output_type": "execute_result"
    }
   ],
   "source": [
    "X[:5], y[:5]"
   ]
  },
  {
   "cell_type": "markdown",
   "metadata": {
    "papermill": {
     "duration": 0.121285,
     "end_time": "2020-12-18T18:23:35.140668",
     "exception": false,
     "start_time": "2020-12-18T18:23:35.019383",
     "status": "completed"
    },
    "tags": []
   },
   "source": [
    "### Split the data into Train and Test set"
   ]
  },
  {
   "cell_type": "code",
   "execution_count": 108,
   "metadata": {
    "execution": {
     "iopub.execute_input": "2020-12-18T18:23:35.392657Z",
     "iopub.status.busy": "2020-12-18T18:23:35.391948Z",
     "iopub.status.idle": "2020-12-18T18:23:35.449320Z",
     "shell.execute_reply": "2020-12-18T18:23:35.448608Z"
    },
    "papermill": {
     "duration": 0.182747,
     "end_time": "2020-12-18T18:23:35.449433",
     "exception": false,
     "start_time": "2020-12-18T18:23:35.266686",
     "status": "completed"
    },
    "tags": []
   },
   "outputs": [],
   "source": [
    "from sklearn.model_selection import train_test_split"
   ]
  },
  {
   "cell_type": "code",
   "execution_count": 109,
   "metadata": {
    "execution": {
     "iopub.execute_input": "2020-12-18T18:23:35.701021Z",
     "iopub.status.busy": "2020-12-18T18:23:35.700021Z",
     "iopub.status.idle": "2020-12-18T18:23:35.704986Z",
     "shell.execute_reply": "2020-12-18T18:23:35.704402Z"
    },
    "papermill": {
     "duration": 0.133091,
     "end_time": "2020-12-18T18:23:35.705110",
     "exception": false,
     "start_time": "2020-12-18T18:23:35.572019",
     "status": "completed"
    },
    "tags": []
   },
   "outputs": [],
   "source": [
    "X_train, X_test, y_train, y_test = train_test_split(X, y, test_size=.2, random_state=45)"
   ]
  },
  {
   "cell_type": "code",
   "execution_count": 110,
   "metadata": {
    "execution": {
     "iopub.execute_input": "2020-12-18T18:23:35.955833Z",
     "iopub.status.busy": "2020-12-18T18:23:35.955152Z",
     "iopub.status.idle": "2020-12-18T18:23:35.957831Z",
     "shell.execute_reply": "2020-12-18T18:23:35.958275Z"
    },
    "papermill": {
     "duration": 0.13071,
     "end_time": "2020-12-18T18:23:35.958416",
     "exception": false,
     "start_time": "2020-12-18T18:23:35.827706",
     "status": "completed"
    },
    "tags": []
   },
   "outputs": [
    {
     "data": {
      "text/plain": [
       "((1040, 6), (1040,), (260, 6), (260,))"
      ]
     },
     "execution_count": 110,
     "metadata": {},
     "output_type": "execute_result"
    }
   ],
   "source": [
    "X_train.shape, y_train.shape, X_test.shape, y_test.shape"
   ]
  },
  {
   "cell_type": "markdown",
   "metadata": {
    "papermill": {
     "duration": 0.122969,
     "end_time": "2020-12-18T18:23:36.204051",
     "exception": false,
     "start_time": "2020-12-18T18:23:36.081082",
     "status": "completed"
    },
    "tags": []
   },
   "source": [
    "## Model Selection"
   ]
  },
  {
   "cell_type": "code",
   "execution_count": 111,
   "metadata": {
    "execution": {
     "iopub.execute_input": "2020-12-18T18:23:36.453123Z",
     "iopub.status.busy": "2020-12-18T18:23:36.452409Z",
     "iopub.status.idle": "2020-12-18T18:23:36.540418Z",
     "shell.execute_reply": "2020-12-18T18:23:36.539795Z"
    },
    "papermill": {
     "duration": 0.214194,
     "end_time": "2020-12-18T18:23:36.540578",
     "exception": false,
     "start_time": "2020-12-18T18:23:36.326384",
     "status": "completed"
    },
    "tags": []
   },
   "outputs": [],
   "source": [
    "from sklearn.linear_model import LinearRegression\n",
    "\n",
    "# Import r2 score for Calculation\n",
    "from sklearn.metrics import r2_score"
   ]
  },
  {
   "cell_type": "code",
   "execution_count": 112,
   "metadata": {
    "execution": {
     "iopub.execute_input": "2020-12-18T18:23:36.794269Z",
     "iopub.status.busy": "2020-12-18T18:23:36.793532Z",
     "iopub.status.idle": "2020-12-18T18:23:36.839252Z",
     "shell.execute_reply": "2020-12-18T18:23:36.839880Z"
    },
    "papermill": {
     "duration": 0.176821,
     "end_time": "2020-12-18T18:23:36.840033",
     "exception": false,
     "start_time": "2020-12-18T18:23:36.663212",
     "status": "completed"
    },
    "tags": []
   },
   "outputs": [],
   "source": [
    "lr = LinearRegression()\n",
    "\n",
    "lr.fit(X_train, y_train)\n",
    "\n",
    "pred = lr.predict(X_test)\n",
    "\n",
    "r2_MultiLinear = r2_score(y_test,pred)"
   ]
  },
  {
   "cell_type": "code",
   "execution_count": 113,
   "metadata": {
    "execution": {
     "iopub.execute_input": "2020-12-18T18:23:37.094855Z",
     "iopub.status.busy": "2020-12-18T18:23:37.093820Z",
     "iopub.status.idle": "2020-12-18T18:23:37.101203Z",
     "shell.execute_reply": "2020-12-18T18:23:37.101904Z"
    },
    "papermill": {
     "duration": 0.136047,
     "end_time": "2020-12-18T18:23:37.102081",
     "exception": false,
     "start_time": "2020-12-18T18:23:36.966034",
     "status": "completed"
    },
    "tags": []
   },
   "outputs": [
    {
     "name": "stdout",
     "output_type": "stream",
     "text": [
      "0.9999937655502327\n",
      "0.9999937655502327\n"
     ]
    }
   ],
   "source": [
    "print(r2_MultiLinear)\n",
    "\n",
    "print(lr.score(X_test, y_test))"
   ]
  },
  {
   "cell_type": "markdown",
   "metadata": {
    "papermill": {
     "duration": 0.122876,
     "end_time": "2020-12-18T18:23:37.351139",
     "exception": false,
     "start_time": "2020-12-18T18:23:37.228263",
     "status": "completed"
    },
    "tags": []
   },
   "source": [
    "### Implementing KNeighbor"
   ]
  },
  {
   "cell_type": "code",
   "execution_count": 114,
   "metadata": {
    "execution": {
     "iopub.execute_input": "2020-12-18T18:23:37.601206Z",
     "iopub.status.busy": "2020-12-18T18:23:37.600434Z",
     "iopub.status.idle": "2020-12-18T18:23:37.677353Z",
     "shell.execute_reply": "2020-12-18T18:23:37.676631Z"
    },
    "papermill": {
     "duration": 0.202547,
     "end_time": "2020-12-18T18:23:37.677470",
     "exception": false,
     "start_time": "2020-12-18T18:23:37.474923",
     "status": "completed"
    },
    "tags": []
   },
   "outputs": [],
   "source": [
    "from sklearn.neighbors import KNeighborsRegressor"
   ]
  },
  {
   "cell_type": "code",
   "execution_count": 115,
   "metadata": {
    "execution": {
     "iopub.execute_input": "2020-12-18T18:23:37.933064Z",
     "iopub.status.busy": "2020-12-18T18:23:37.932280Z",
     "iopub.status.idle": "2020-12-18T18:23:38.569605Z",
     "shell.execute_reply": "2020-12-18T18:23:38.569022Z"
    },
    "papermill": {
     "duration": 0.76854,
     "end_time": "2020-12-18T18:23:38.569732",
     "exception": false,
     "start_time": "2020-12-18T18:23:37.801192",
     "status": "completed"
    },
    "tags": []
   },
   "outputs": [],
   "source": [
    "kRange = range(1,15,1)\n",
    "\n",
    "scores_list = []\n",
    "for i in kRange:\n",
    "    regressor_knn = KNeighborsRegressor(n_neighbors = i)\n",
    "    \n",
    "    regressor_knn.fit(X_train,y_train)\n",
    "    pred = regressor_knn.predict(X_test)\n",
    "    \n",
    "    scores_list.append(r2_score(y_test,pred))"
   ]
  },
  {
   "cell_type": "code",
   "execution_count": 116,
   "metadata": {
    "execution": {
     "iopub.execute_input": "2020-12-18T18:23:38.832300Z",
     "iopub.status.busy": "2020-12-18T18:23:38.830500Z",
     "iopub.status.idle": "2020-12-18T18:23:39.004915Z",
     "shell.execute_reply": "2020-12-18T18:23:39.005707Z"
    },
    "papermill": {
     "duration": 0.311015,
     "end_time": "2020-12-18T18:23:39.005935",
     "exception": false,
     "start_time": "2020-12-18T18:23:38.694920",
     "status": "completed"
    },
    "tags": []
   },
   "outputs": [
    {
     "data": {
      "image/png": "[encoded data removed]",
      "text/plain": [
       "<Figure size 432x288 with 1 Axes>"
      ]
     },
     "metadata": {
      "needs_background": "light"
     },
     "output_type": "display_data"
    }
   ],
   "source": [
    "plt.plot(kRange, scores_list, linewidth=2, color='blue')\n",
    "plt.xticks(kRange)\n",
    "\n",
    "plt.xlabel('Neighbor Number')\n",
    "plt.ylabel('r2_Score of KNN')\n",
    "plt.show()   "
   ]
  },
  {
   "cell_type": "code",
   "execution_count": 117,
   "metadata": {
    "execution": {
     "iopub.execute_input": "2020-12-18T18:23:39.279836Z",
     "iopub.status.busy": "2020-12-18T18:23:39.279124Z",
     "iopub.status.idle": "2020-12-18T18:23:39.321314Z",
     "shell.execute_reply": "2020-12-18T18:23:39.322010Z"
    },
    "papermill": {
     "duration": 0.172762,
     "end_time": "2020-12-18T18:23:39.322221",
     "exception": false,
     "start_time": "2020-12-18T18:23:39.149459",
     "status": "completed"
    },
    "tags": []
   },
   "outputs": [
    {
     "name": "stdout",
     "output_type": "stream",
     "text": [
      "0.9652550807699654\n"
     ]
    }
   ],
   "source": [
    "# Training the KNN model on the training set\n",
    "regressor_knn = KNeighborsRegressor(n_neighbors = 2)\n",
    "\n",
    "regressor_knn.fit(X_train,y_train)\n",
    "pred = regressor_knn.predict(X_test)\n",
    "\n",
    "r2_knn = r2_score(y_test,pred)\n",
    "print(r2_knn)"
   ]
  },
  {
   "cell_type": "markdown",
   "metadata": {
    "papermill": {
     "duration": 0.123188,
     "end_time": "2020-12-18T18:23:39.571309",
     "exception": false,
     "start_time": "2020-12-18T18:23:39.448121",
     "status": "completed"
    },
    "tags": []
   },
   "source": [
    "### Implementing Decision Tree Regressor"
   ]
  },
  {
   "cell_type": "code",
   "execution_count": 118,
   "metadata": {
    "execution": {
     "iopub.execute_input": "2020-12-18T18:23:39.824273Z",
     "iopub.status.busy": "2020-12-18T18:23:39.823655Z",
     "iopub.status.idle": "2020-12-18T18:23:39.856903Z",
     "shell.execute_reply": "2020-12-18T18:23:39.856200Z"
    },
    "papermill": {
     "duration": 0.161671,
     "end_time": "2020-12-18T18:23:39.857018",
     "exception": false,
     "start_time": "2020-12-18T18:23:39.695347",
     "status": "completed"
    },
    "tags": []
   },
   "outputs": [],
   "source": [
    "from sklearn.tree import DecisionTreeRegressor\n",
    "\n",
    "dtr = DecisionTreeRegressor(random_state=32)"
   ]
  },
  {
   "cell_type": "code",
   "execution_count": 119,
   "metadata": {
    "execution": {
     "iopub.execute_input": "2020-12-18T18:23:40.113380Z",
     "iopub.status.busy": "2020-12-18T18:23:40.112662Z",
     "iopub.status.idle": "2020-12-18T18:23:40.166889Z",
     "shell.execute_reply": "2020-12-18T18:23:40.167700Z"
    },
    "papermill": {
     "duration": 0.185114,
     "end_time": "2020-12-18T18:23:40.167897",
     "exception": false,
     "start_time": "2020-12-18T18:23:39.982783",
     "status": "completed"
    },
    "tags": []
   },
   "outputs": [
    {
     "name": "stdout",
     "output_type": "stream",
     "text": [
      "0.9767646774620684\n"
     ]
    }
   ],
   "source": [
    "dtr.fit(X_train, y_train)\n",
    "\n",
    "pred = dtr.predict(X_test)\n",
    "\n",
    "print(r2_score(y_test, pred))"
   ]
  },
  {
   "cell_type": "markdown",
   "metadata": {
    "papermill": {
     "duration": 0.125227,
     "end_time": "2020-12-18T18:23:40.418377",
     "exception": false,
     "start_time": "2020-12-18T18:23:40.293150",
     "status": "completed"
    },
    "tags": []
   },
   "source": [
    "### Implementing RandomForest Regressor"
   ]
  },
  {
   "cell_type": "code",
   "execution_count": 120,
   "metadata": {
    "execution": {
     "iopub.execute_input": "2020-12-18T18:23:40.674225Z",
     "iopub.status.busy": "2020-12-18T18:23:40.673481Z",
     "iopub.status.idle": "2020-12-18T18:23:40.706359Z",
     "shell.execute_reply": "2020-12-18T18:23:40.706894Z"
    },
    "papermill": {
     "duration": 0.163328,
     "end_time": "2020-12-18T18:23:40.707060",
     "exception": false,
     "start_time": "2020-12-18T18:23:40.543732",
     "status": "completed"
    },
    "tags": []
   },
   "outputs": [],
   "source": [
    "from sklearn.ensemble import RandomForestRegressor\n",
    "\n",
    "rfr = RandomForestRegressor(random_state= 10)"
   ]
  },
  {
   "cell_type": "code",
   "execution_count": 121,
   "metadata": {
    "execution": {
     "iopub.execute_input": "2020-12-18T18:23:40.965411Z",
     "iopub.status.busy": "2020-12-18T18:23:40.964716Z",
     "iopub.status.idle": "2020-12-18T18:23:44.282957Z",
     "shell.execute_reply": "2020-12-18T18:23:44.282308Z"
    },
    "papermill": {
     "duration": 3.450409,
     "end_time": "2020-12-18T18:23:44.283093",
     "exception": false,
     "start_time": "2020-12-18T18:23:40.832684",
     "status": "completed"
    },
    "tags": []
   },
   "outputs": [
    {
     "name": "stdout",
     "output_type": "stream",
     "text": [
      "0.9897511751274968\n"
     ]
    }
   ],
   "source": [
    "rfr.fit(X_train, y_train)\n",
    "\n",
    "pred = rfr.predict(X_test)\n",
    "\n",
    "print(r2_score(y_test, pred))"
   ]
  },
  {
   "cell_type": "markdown",
   "metadata": {
    "papermill": {
     "duration": 0.1252,
     "end_time": "2020-12-18T18:23:44.536439",
     "exception": false,
     "start_time": "2020-12-18T18:23:44.411239",
     "status": "completed"
    },
    "tags": []
   },
   "source": [
    "### Implementing SVM"
   ]
  },
  {
   "cell_type": "code",
   "execution_count": 122,
   "metadata": {
    "execution": {
     "iopub.execute_input": "2020-12-18T18:23:44.796343Z",
     "iopub.status.busy": "2020-12-18T18:23:44.795442Z",
     "iopub.status.idle": "2020-12-18T18:23:44.798445Z",
     "shell.execute_reply": "2020-12-18T18:23:44.797881Z"
    },
    "papermill": {
     "duration": 0.136112,
     "end_time": "2020-12-18T18:23:44.798579",
     "exception": false,
     "start_time": "2020-12-18T18:23:44.662467",
     "status": "completed"
    },
    "tags": []
   },
   "outputs": [],
   "source": [
    "from sklearn.svm import SVR\n",
    "\n",
    "svr_linear = SVR(kernel='linear')\n",
    "\n",
    "svr_rbf = SVR(kernel='rbf')"
   ]
  },
  {
   "cell_type": "code",
   "execution_count": 123,
   "metadata": {
    "execution": {
     "iopub.execute_input": "2020-12-18T18:23:45.062871Z",
     "iopub.status.busy": "2020-12-18T18:23:45.062103Z",
     "iopub.status.idle": "2020-12-18T18:23:46.947551Z",
     "shell.execute_reply": "2020-12-18T18:23:46.946841Z"
    },
    "papermill": {
     "duration": 2.021668,
     "end_time": "2020-12-18T18:23:46.947670",
     "exception": false,
     "start_time": "2020-12-18T18:23:44.926002",
     "status": "completed"
    },
    "tags": []
   },
   "outputs": [
    {
     "name": "stdout",
     "output_type": "stream",
     "text": [
      "0.999201627572389\n",
      "0.941560650818474\n"
     ]
    }
   ],
   "source": [
    "svr_linear.fit(X_train, y_train)\n",
    "svr_rbf.fit(X_train, y_train)\n",
    "\n",
    "pred_linear = svr_linear.predict(X_test)\n",
    "pred_rbf = svr_rbf.predict(X_test)\n",
    "\n",
    "print(r2_score(y_test, pred_linear))\n",
    "print(r2_score(y_test, pred_rbf))"
   ]
  }
 ],
 "metadata": {
  "kernelspec": {
   "display_name": "Python 3",
   "language": "python",
   "name": "python3"
  },
  "language_info": {
   "codemirror_mode": {
    "name": "ipython",
    "version": 3
   },
   "file_extension": ".py",
   "mimetype": "text/x-python",
   "name": "python",
   "nbconvert_exporter": "python",
   "pygments_lexer": "ipython3",
   "version": "3.6.10"
  },
  "papermill": {
   "duration": 41.94006,
   "end_time": "2020-12-18T18:23:50.826252",
   "environment_variables": {},
   "exception": null,
   "input_path": "__notebook__.ipynb",
   "output_path": "__notebook__.ipynb",
   "parameters": {},
   "start_time": "2020-12-18T18:23:08.886192",
   "version": "2.1.0"
  }
 },
 "nbformat": 4,
 "nbformat_minor": 4
}
